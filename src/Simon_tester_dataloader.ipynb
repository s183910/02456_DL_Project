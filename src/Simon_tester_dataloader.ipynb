{
 "cells": [
  {
   "cell_type": "code",
   "execution_count": 1,
   "metadata": {},
   "outputs": [],
   "source": [
    "from DataLoader2 import DataLoaderQM9\n",
    "\n",
    "dataset = DataLoaderQM9(r_cut=5, batchsize=100)\n"
   ]
  },
  {
   "cell_type": "code",
   "execution_count": 2,
   "metadata": {},
   "outputs": [
    {
     "name": "stdout",
     "output_type": "stream",
     "text": [
      "{'z': tensor([6, 8, 6,  ..., 1, 1, 1]), 'xyz': tensor([[-0.0282,  1.4749, -0.1976],\n",
      "        [ 1.3810,  1.6567,  0.2272],\n",
      "        [ 1.2488,  0.3799,  0.8342],\n",
      "        ...,\n",
      "        [ 0.9753, -1.7217,  2.6758],\n",
      "        [ 0.0397,  0.3241,  2.0747],\n",
      "        [-1.2648, -0.6455,  1.4426]]), 'edges': tensor([[   1,    0],\n",
      "        [   0,    1],\n",
      "        [   2,    0],\n",
      "        ...,\n",
      "        [1785, 1787],\n",
      "        [1787, 1786],\n",
      "        [1786, 1787]]), 'r_ij': tensor([[1.4830],\n",
      "        [1.4830],\n",
      "        [1.9734],\n",
      "        ...,\n",
      "        [2.7744],\n",
      "        [1.7440],\n",
      "        [1.7440]]), 'r_ij_normalized': tensor([[-0.9502, -0.1226, -0.2864],\n",
      "        [ 0.9502,  0.1226,  0.2864],\n",
      "        [-0.6471,  0.5549, -0.5229],\n",
      "        ...,\n",
      "        [-0.8074,  0.3879, -0.4445],\n",
      "        [ 0.7480,  0.5560,  0.3625],\n",
      "        [-0.7480, -0.5560, -0.3625]]), 'graph_idx': tensor([ 0,  0,  0,  ..., 99, 99, 99]), 'targets': tensor([[ 0.6904, 74.2100, -5.8341,  ...,  3.3983,  1.9002,  1.6307],\n",
      "        [ 1.8480, 90.4500, -6.4001,  ...,  3.4248,  0.7150,  0.6274],\n",
      "        [ 4.2981, 74.5300, -6.9362,  ...,  2.9459,  0.8938,  0.7527],\n",
      "        ...,\n",
      "        [ 2.7194, 72.1600, -6.5008,  ...,  3.2690,  1.3308,  1.1208],\n",
      "        [ 0.9966, 77.3400, -5.0776,  ...,  2.2481,  1.5946,  0.9486],\n",
      "        [ 3.7976, 84.6400, -6.1226,  ...,  2.9525,  1.2672,  0.9916]])}\n"
     ]
    }
   ],
   "source": [
    "for item in dataset:\n",
    "    print(item)\n",
    "    break"
   ]
  }
 ],
 "metadata": {
  "kernelspec": {
   "display_name": "Python 3",
   "language": "python",
   "name": "python3"
  },
  "language_info": {
   "codemirror_mode": {
    "name": "ipython",
    "version": 3
   },
   "file_extension": ".py",
   "mimetype": "text/x-python",
   "name": "python",
   "nbconvert_exporter": "python",
   "pygments_lexer": "ipython3",
   "version": "3.11.1"
  }
 },
 "nbformat": 4,
 "nbformat_minor": 2
}
